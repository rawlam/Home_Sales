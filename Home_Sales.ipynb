{
  "cells": [
    {
      "cell_type": "code",
      "execution_count": 1,
      "metadata": {
        "colab": {
          "base_uri": "https://localhost:8080/"
        },
        "id": "a_KW73O2e3dw",
        "outputId": "cd2e2711-6f61-41aa-ded6-08340058d3bc"
      },
      "outputs": [
        {
          "output_type": "stream",
          "name": "stdout",
          "text": [
            "\r0% [Working]\r            \rHit:1 https://developer.download.nvidia.com/compute/cuda/repos/ubuntu2004/x86_64  InRelease\n",
            "\r0% [Connecting to archive.ubuntu.com (185.125.190.39)] [Waiting for headers] [C\r                                                                               \rGet:2 http://security.ubuntu.com/ubuntu focal-security InRelease [114 kB]\n",
            "Get:3 https://cloud.r-project.org/bin/linux/ubuntu focal-cran40/ InRelease [3,622 B]\n",
            "Hit:4 http://ppa.launchpad.net/c2d4u.team/c2d4u4.0+/ubuntu focal InRelease\n",
            "Hit:5 http://archive.ubuntu.com/ubuntu focal InRelease\n",
            "Get:6 http://archive.ubuntu.com/ubuntu focal-updates InRelease [114 kB]\n",
            "Hit:7 http://ppa.launchpad.net/cran/libgit2/ubuntu focal InRelease\n",
            "Get:8 http://ppa.launchpad.net/deadsnakes/ppa/ubuntu focal InRelease [18.1 kB]\n",
            "Get:9 http://security.ubuntu.com/ubuntu focal-security/universe amd64 Packages [1,057 kB]\n",
            "Get:10 http://archive.ubuntu.com/ubuntu focal-backports InRelease [108 kB]\n",
            "Get:11 http://security.ubuntu.com/ubuntu focal-security/main amd64 Packages [2,774 kB]\n",
            "Get:12 http://archive.ubuntu.com/ubuntu focal-updates/main amd64 Packages [3,253 kB]\n",
            "Hit:13 http://ppa.launchpad.net/graphics-drivers/ppa/ubuntu focal InRelease\n",
            "Hit:14 http://ppa.launchpad.net/ubuntugis/ppa/ubuntu focal InRelease\n",
            "Get:15 http://ppa.launchpad.net/deadsnakes/ppa/ubuntu focal/main amd64 Packages [29.5 kB]\n",
            "Get:16 http://archive.ubuntu.com/ubuntu focal-updates/universe amd64 Packages [1,352 kB]\n",
            "Fetched 8,822 kB in 2s (3,927 kB/s)\n",
            "Reading package lists... Done\n"
          ]
        }
      ],
      "source": [
        "import os\n",
        "# Find the latest version of spark 3.x  from http://www.apache.org/dist/spark/ and enter as the spark version\n",
        "# For example:\n",
        "# spark_version = 'spark-3.3.1'\n",
        "spark_version = 'spark-3.4.0'\n",
        "os.environ['SPARK_VERSION']=spark_version\n",
        "\n",
        "# Install Spark and Java\n",
        "!apt-get update\n",
        "!apt-get install openjdk-11-jdk-headless -qq > /dev/null\n",
        "!wget -q http://www.apache.org/dist/spark/$SPARK_VERSION/$SPARK_VERSION-bin-hadoop3.tgz\n",
        "!tar xf $SPARK_VERSION-bin-hadoop3.tgz\n",
        "!pip install -q findspark\n",
        "\n",
        "# Set Environment Variables\n",
        "os.environ[\"JAVA_HOME\"] = \"/usr/lib/jvm/java-11-openjdk-amd64\"\n",
        "os.environ[\"SPARK_HOME\"] = f\"/content/{spark_version}-bin-hadoop3\"\n",
        "\n",
        "# Start a SparkSession\n",
        "import findspark\n",
        "findspark.init()"
      ]
    },
    {
      "cell_type": "code",
      "execution_count": 2,
      "metadata": {
        "id": "2XbWNf1Te5fM"
      },
      "outputs": [],
      "source": [
        "# Import packages\n",
        "from pyspark.sql import SparkSession\n",
        "import time\n",
        "\n",
        "# Create a SparkSession\n",
        "spark = SparkSession.builder.appName(\"SparkSQL\").getOrCreate()"
      ]
    },
    {
      "cell_type": "code",
      "execution_count": 3,
      "metadata": {
        "id": "wOJqxG_RPSwp"
      },
      "outputs": [],
      "source": [
        "#@title\n",
        "# 1. Read in the AWS S3 bucket into a DataFrame.\n",
        "from pyspark import SparkFiles\n",
        "url = \"https://2u-data-curriculum-team.s3.amazonaws.com/dataviz-classroom/v1.2/22-big-data/home_sales_revised.csv\"\n",
        "\n",
        "spark.sparkContext.addFile(url)\n",
        "home_sales_df = spark.read.csv(SparkFiles.get(\"home_sales_revised.csv\"), sep=\",\", header=True)"
      ]
    },
    {
      "cell_type": "code",
      "execution_count": 4,
      "metadata": {
        "id": "RoljcJ7WPpnm"
      },
      "outputs": [],
      "source": [
        "# 2. Create a temporary view of the DataFrame.\n",
        "\n",
        "home_sales_df.createOrReplaceTempView('home_sales')"
      ]
    },
    {
      "cell_type": "code",
      "source": [
        "# View table\n",
        "start_time = time.time()\n",
        "\n",
        "spark.sql(\"\"\"\n",
        "SELECT * \n",
        "FROM home_sales\n",
        "\"\"\").show(truncate=False)\n",
        "\n",
        "print(\"--- %s seconds ---\" % (time.time() - start_time))"
      ],
      "metadata": {
        "colab": {
          "base_uri": "https://localhost:8080/"
        },
        "id": "STZpUXR73p0O",
        "outputId": "577b65a1-f337-4d10-effc-b356cc9ac54b"
      },
      "execution_count": 5,
      "outputs": [
        {
          "output_type": "stream",
          "name": "stdout",
          "text": [
            "+------------------------------------+----------+----------+------+--------+---------+-----------+--------+------+----------+----+\n",
            "|id                                  |date      |date_built|price |bedrooms|bathrooms|sqft_living|sqft_lot|floors|waterfront|view|\n",
            "+------------------------------------+----------+----------+------+--------+---------+-----------+--------+------+----------+----+\n",
            "|f8a53099-ba1c-47d6-9c31-7398aa8f6089|2022-04-08|2016      |936923|4       |3        |3167       |11733   |2     |1         |76  |\n",
            "|7530a2d8-1ae3-4517-9f4a-befe060c4353|2021-06-13|2013      |379628|2       |2        |2235       |14384   |1     |0         |23  |\n",
            "|43de979c-0bf0-4c9f-85ef-96dc27b258d5|2019-04-12|2014      |417866|2       |2        |2127       |10575   |2     |0         |0   |\n",
            "|b672c137-b88c-48bf-9f18-d0a4ac62fb8b|2019-10-16|2016      |239895|2       |2        |1631       |11149   |2     |0         |0   |\n",
            "|e0726d4d-d595-4074-8283-4139a54d0d63|2022-01-08|2017      |424418|3       |2        |2249       |13878   |2     |0         |4   |\n",
            "|5aa00529-0533-46ba-870c-9e881580ef35|2019-01-30|2017      |218712|2       |3        |1965       |14375   |2     |0         |7   |\n",
            "|131492a1-72e2-4a84-bf97-0db14973bfdb|2020-02-08|2017      |419199|2       |3        |2062       |8876    |2     |0         |6   |\n",
            "|8d54a71b-c520-44e5-8ba1-5a84be03ad35|2019-07-21|2010      |323956|2       |3        |1506       |11816   |1     |0         |25  |\n",
            "|e81aacfe-17fe-46b1-a52a-4753d1622b4a|2020-06-16|2016      |181925|3       |3        |2137       |11709   |2     |0         |22  |\n",
            "|2ed8d509-7372-46d5-a9dd-9281a95467d4|2021-08-06|2015      |258710|3       |3        |1918       |9666    |1     |0         |25  |\n",
            "|f876d86f-3c9f-42b6-928f-bcb685c070ed|2019-02-27|2011      |167864|3       |3        |2471       |13924   |2     |0         |15  |\n",
            "|0a2bd445-8508-4d83-b6be-f043bf3f3b24|2021-12-30|2014      |337527|2       |3        |1926       |12556   |1     |0         |23  |\n",
            "|941bad30-eb49-4a78-b83a-87abb87a62db|2020-05-09|2015      |229896|3       |3        |2197       |8641    |1     |0         |3   |\n",
            "|dd61eb34-6589-4c04-92ba-fc3c44f1b670|2021-07-25|2016      |210247|3       |2        |1672       |11986   |2     |0         |28  |\n",
            "|f1e4cef7-d151-4391-8d00-d92ed2b7ab1b|2019-02-01|2011      |398667|2       |3        |2331       |11356   |1     |0         |7   |\n",
            "|ea620c7b-c2f7-4c6f-9d16-3ccb34320ca4|2021-05-31|2011      |437958|3       |3        |2356       |11052   |1     |0         |26  |\n",
            "|f233cb41-6f33-4b0c-b9ed-1b8aa87163e5|2021-07-18|2016      |437375|4       |3        |1704       |11721   |2     |0         |34  |\n",
            "|c797ca12-52cd-4b13-9338-183653619b11|2019-06-08|2015      |288650|2       |3        |2100       |10419   |2     |0         |7   |\n",
            "|0cfe57f3-28c2-472c-9bc3-aaeac6807e62|2019-10-04|2015      |308313|3       |3        |1960       |9453    |2     |0         |2   |\n",
            "|4566cd2a-ac6e-4358-b1ad-56921991ff60|2019-07-15|2016      |177541|3       |3        |2130       |10517   |2     |0         |25  |\n",
            "+------------------------------------+----------+----------+------+--------+---------+-----------+--------+------+----------+----+\n",
            "only showing top 20 rows\n",
            "\n",
            "--- 1.378911018371582 seconds ---\n"
          ]
        }
      ]
    },
    {
      "cell_type": "code",
      "execution_count": 6,
      "metadata": {
        "id": "L6fkwOeOmqvq",
        "colab": {
          "base_uri": "https://localhost:8080/"
        },
        "outputId": "4af08c62-f756-4bef-8084-0d25b81875b0"
      },
      "outputs": [
        {
          "output_type": "stream",
          "name": "stdout",
          "text": [
            "+----------+--------+---------+\n",
            "|date_built|bedrooms|avgPrice |\n",
            "+----------+--------+---------+\n",
            "|2017      |4       |296576.69|\n",
            "|2016      |4       |296050.24|\n",
            "|2015      |4       |307908.86|\n",
            "|2014      |4       |299073.89|\n",
            "|2013      |4       |299999.39|\n",
            "|2012      |4       |298233.42|\n",
            "|2011      |4       |302141.9 |\n",
            "|2010      |4       |296800.75|\n",
            "+----------+--------+---------+\n",
            "\n",
            "--- 2.863520860671997 seconds ---\n"
          ]
        }
      ],
      "source": [
        "# 3. What is the average price for a four bedroom house sold in each year rounded to two decimal places?\n",
        "\n",
        "start_time = time.time()\n",
        "\n",
        "spark.sql(\"\"\"\n",
        "SELECT \n",
        "DISTINCT date_built,\n",
        "bedrooms,\n",
        "round(mean(price), 2) as avgPrice\n",
        "FROM home_sales \n",
        "WHERE bedrooms=4 \n",
        "GROUP BY  1,2\n",
        "ORDER BY date_built desc\n",
        "\"\"\").show(truncate=False)\n",
        "\n",
        "print(\"--- %s seconds ---\" % (time.time() - start_time))"
      ]
    },
    {
      "cell_type": "code",
      "execution_count": 7,
      "metadata": {
        "id": "l8p_tUS8h8it",
        "colab": {
          "base_uri": "https://localhost:8080/"
        },
        "outputId": "17e593ac-b617-485d-ba52-f3c516da5af6"
      },
      "outputs": [
        {
          "output_type": "stream",
          "name": "stdout",
          "text": [
            "+----------+--------+---------+---------+\n",
            "|date_built|bedrooms|bathrooms|avgPrice |\n",
            "+----------+--------+---------+---------+\n",
            "|2017      |3       |3        |292676.79|\n",
            "|2016      |3       |3        |290555.07|\n",
            "|2015      |3       |3        |288770.3 |\n",
            "|2014      |3       |3        |290852.27|\n",
            "|2013      |3       |3        |295962.27|\n",
            "|2012      |3       |3        |293683.19|\n",
            "|2011      |3       |3        |291117.47|\n",
            "|2010      |3       |3        |292859.62|\n",
            "+----------+--------+---------+---------+\n",
            "\n",
            "--- 1.349252700805664 seconds ---\n"
          ]
        }
      ],
      "source": [
        "# 4. What is the average price of a home for each year the home was built that have 3 bedrooms and 3 bathrooms rounded to two decimal places?\n",
        "\n",
        "start_time = time.time()\n",
        "\n",
        "spark.sql(\"\"\"\n",
        "SELECT \n",
        "DISTINCT date_built,\n",
        "bedrooms,\n",
        "bathrooms,\n",
        "round(mean(price), 2) as avgPrice\n",
        "FROM home_sales \n",
        "WHERE bedrooms=3 AND bathrooms=3 \n",
        "GROUP BY 1,2,3\n",
        "ORDER BY date_built desc\n",
        "\"\"\").show(truncate=False)\n",
        "\n",
        "print(\"--- %s seconds ---\" % (time.time() - start_time))"
      ]
    },
    {
      "cell_type": "code",
      "execution_count": 8,
      "metadata": {
        "id": "Y-Eytz64liDU",
        "colab": {
          "base_uri": "https://localhost:8080/"
        },
        "outputId": "46b5a386-f092-430b-c174-5cb31ea51d2c"
      },
      "outputs": [
        {
          "output_type": "stream",
          "name": "stdout",
          "text": [
            "+----------+--------+---------+------+---------+\n",
            "|date_built|bedrooms|bathrooms|floors|avgPrice |\n",
            "+----------+--------+---------+------+---------+\n",
            "|2017      |3       |3        |2     |280317.58|\n",
            "|2016      |3       |3        |2     |293965.1 |\n",
            "|2015      |3       |3        |2     |297609.97|\n",
            "|2014      |3       |3        |2     |298264.72|\n",
            "|2013      |3       |3        |2     |303676.79|\n",
            "|2012      |3       |3        |2     |307539.97|\n",
            "|2011      |3       |3        |2     |276553.81|\n",
            "|2010      |3       |3        |2     |285010.22|\n",
            "+----------+--------+---------+------+---------+\n",
            "\n",
            "--- 2.1387627124786377 seconds ---\n"
          ]
        }
      ],
      "source": [
        "# 5. What is the average price of a home for each year built that have 3 bedrooms, 3 bathrooms, with two floors,\n",
        "# and are greater than or equal to 2,000 square feet rounded to two decimal places?\n",
        "\n",
        "start_time = time.time()\n",
        "\n",
        "spark.sql(\"\"\"\n",
        "SELECT \n",
        "DISTINCT date_built,\n",
        "bedrooms,\n",
        "bathrooms,\n",
        "floors,\n",
        "round(mean(price), 2) as avgPrice\n",
        "FROM home_sales \n",
        "WHERE bedrooms=3 AND bathrooms=3 AND floors=2 AND sqft_living>=2000\n",
        "GROUP BY  1,2,3,4\n",
        "ORDER BY date_built desc\n",
        "\"\"\").show(truncate=False)\n",
        "\n",
        "print(\"--- %s seconds ---\" % (time.time() - start_time))"
      ]
    },
    {
      "cell_type": "code",
      "execution_count": 9,
      "metadata": {
        "colab": {
          "base_uri": "https://localhost:8080/"
        },
        "id": "GUrfgOX1pCRd",
        "outputId": "00c4f83b-3039-4e5c-f44b-919fb2ecb573"
      },
      "outputs": [
        {
          "output_type": "stream",
          "name": "stdout",
          "text": [
            "+----+----------+\n",
            "|view|avgPrice  |\n",
            "+----+----------+\n",
            "|99  |1061201.42|\n",
            "|98  |1053739.33|\n",
            "|97  |1129040.15|\n",
            "|96  |1017815.92|\n",
            "|95  |1054325.6 |\n",
            "|94  |1033536.2 |\n",
            "|93  |1026006.06|\n",
            "|92  |970402.55 |\n",
            "|91  |1137372.73|\n",
            "|90  |1062654.16|\n",
            "|89  |1107839.15|\n",
            "|88  |1031719.35|\n",
            "|87  |1072285.2 |\n",
            "|86  |1070444.25|\n",
            "|85  |1056336.74|\n",
            "|84  |1117233.13|\n",
            "|83  |1033965.93|\n",
            "|82  |1063498.0 |\n",
            "|81  |1053472.79|\n",
            "|80  |991767.38 |\n",
            "+----+----------+\n",
            "only showing top 20 rows\n",
            "\n",
            "--- 1.2630457878112793 seconds ---\n"
          ]
        }
      ],
      "source": [
        "# 6. What is the \"view\" rating for the average price of a home, rounded to two decimal places, where the homes are greater than\n",
        "# or equal to $350,000? Although this is a small dataset, determine the run time for this query.\n",
        "\n",
        "start_time = time.time()\n",
        "\n",
        "spark.sql(\"\"\"\n",
        "SELECT \n",
        "view,\n",
        "round(avg(price), 2) as avgPrice\n",
        "FROM home_sales \n",
        "GROUP BY view\n",
        "HAVING avgPrice>=350000\n",
        "ORDER BY view desc\n",
        "\"\"\").show(truncate=False)\n",
        "\n",
        "print(\"--- %s seconds ---\" % (time.time() - start_time))"
      ]
    },
    {
      "cell_type": "code",
      "execution_count": 10,
      "metadata": {
        "id": "KAhk3ZD2tFy8",
        "colab": {
          "base_uri": "https://localhost:8080/"
        },
        "outputId": "5bb5d4e8-f7b6-4162-c9ec-75b926cad67c"
      },
      "outputs": [
        {
          "output_type": "execute_result",
          "data": {
            "text/plain": [
              "DataFrame[]"
            ]
          },
          "metadata": {},
          "execution_count": 10
        }
      ],
      "source": [
        "# 7. Cache the the temporary table home_sales.\n",
        "spark.sql(\"cache table home_sales\")"
      ]
    },
    {
      "cell_type": "code",
      "execution_count": 11,
      "metadata": {
        "id": "4opVhbvxtL-i",
        "colab": {
          "base_uri": "https://localhost:8080/"
        },
        "outputId": "42b8e16a-1e16-48ac-da06-1d8195331a28"
      },
      "outputs": [
        {
          "output_type": "execute_result",
          "data": {
            "text/plain": [
              "True"
            ]
          },
          "metadata": {},
          "execution_count": 11
        }
      ],
      "source": [
        "# 8. Check if the table is cached.\n",
        "spark.catalog.isCached('home_sales')"
      ]
    },
    {
      "cell_type": "code",
      "execution_count": 12,
      "metadata": {
        "colab": {
          "base_uri": "https://localhost:8080/"
        },
        "id": "5GnL46lwTSEk",
        "outputId": "5160678a-6d3f-4ac5-ba52-597aca0047a2"
      },
      "outputs": [
        {
          "output_type": "stream",
          "name": "stdout",
          "text": [
            "+----+----------+\n",
            "|view|avgPrice  |\n",
            "+----+----------+\n",
            "|99  |1061201.42|\n",
            "|98  |1053739.33|\n",
            "|97  |1129040.15|\n",
            "|96  |1017815.92|\n",
            "|95  |1054325.6 |\n",
            "|94  |1033536.2 |\n",
            "|93  |1026006.06|\n",
            "|92  |970402.55 |\n",
            "|91  |1137372.73|\n",
            "|90  |1062654.16|\n",
            "|89  |1107839.15|\n",
            "|88  |1031719.35|\n",
            "|87  |1072285.2 |\n",
            "|86  |1070444.25|\n",
            "|85  |1056336.74|\n",
            "|84  |1117233.13|\n",
            "|83  |1033965.93|\n",
            "|82  |1063498.0 |\n",
            "|81  |1053472.79|\n",
            "|80  |991767.38 |\n",
            "+----+----------+\n",
            "only showing top 20 rows\n",
            "\n",
            "--- 0.5587842464447021 seconds ---\n"
          ]
        }
      ],
      "source": [
        "# 9. Using the cached data, run the query that filters out the view ratings with average price \n",
        "#  greater than or equal to $350,000. Determine the runtime and compare it to uncached runtime.\n",
        "\n",
        "start_time = time.time()\n",
        "\n",
        "spark.sql(\"\"\"\n",
        "SELECT \n",
        "view,\n",
        "round(avg(price), 2) as avgPrice\n",
        "FROM home_sales \n",
        "GROUP BY view\n",
        "HAVING avgPrice>=350000\n",
        "ORDER BY view desc\n",
        "\"\"\").show(truncate=False)\n",
        "\n",
        "print(\"--- %s seconds ---\" % (time.time() - start_time))\n"
      ]
    },
    {
      "cell_type": "code",
      "execution_count": 13,
      "metadata": {
        "id": "Qm12WN9isHBR"
      },
      "outputs": [],
      "source": [
        "# 10. Partition by the \"date_built\" field on the formatted parquet home sales data \n",
        "home_sales_df.write.partitionBy(\"date_built\").mode(\"overwrite\").parquet(\"home_sales_partitioned\")"
      ]
    },
    {
      "cell_type": "code",
      "execution_count": 14,
      "metadata": {
        "id": "AZ7BgY61sRqY"
      },
      "outputs": [],
      "source": [
        "# 11. Read the parquet formatted data.\n",
        "p_home_sales_df_p=spark.read.parquet('home_sales_partitioned')"
      ]
    },
    {
      "cell_type": "code",
      "execution_count": 15,
      "metadata": {
        "id": "J6MJkHfvVcvh"
      },
      "outputs": [],
      "source": [
        "# 12. Create a temporary table for the parquet data.\n",
        "p_home_sales_df_p.createOrReplaceTempView('p_home_sales_p')"
      ]
    },
    {
      "cell_type": "code",
      "execution_count": 16,
      "metadata": {
        "colab": {
          "base_uri": "https://localhost:8080/"
        },
        "id": "G_Vhb52rU1Sn",
        "outputId": "7d96aa91-56e1-4c9c-8d0f-e434b9038bef"
      },
      "outputs": [
        {
          "output_type": "stream",
          "name": "stdout",
          "text": [
            "+----+----------+\n",
            "|view|avgPrice  |\n",
            "+----+----------+\n",
            "|99  |1061201.42|\n",
            "|98  |1053739.33|\n",
            "|97  |1129040.15|\n",
            "|96  |1017815.92|\n",
            "|95  |1054325.6 |\n",
            "|94  |1033536.2 |\n",
            "|93  |1026006.06|\n",
            "|92  |970402.55 |\n",
            "|91  |1137372.73|\n",
            "|90  |1062654.16|\n",
            "|89  |1107839.15|\n",
            "|88  |1031719.35|\n",
            "|87  |1072285.2 |\n",
            "|86  |1070444.25|\n",
            "|85  |1056336.74|\n",
            "|84  |1117233.13|\n",
            "|83  |1033965.93|\n",
            "|82  |1063498.0 |\n",
            "|81  |1053472.79|\n",
            "|80  |991767.38 |\n",
            "+----+----------+\n",
            "only showing top 20 rows\n",
            "\n",
            "--- 0.8339171409606934 seconds ---\n"
          ]
        }
      ],
      "source": [
        "# 13. Run the query that filters out the view ratings with average price of greater than or equal to $350,000 \n",
        "# with the parquet DataFrame. Round your average to two decimal places. \n",
        "# Determine the runtime and compare it to the cached version.\n",
        "\n",
        "start_time = time.time()\n",
        "\n",
        "spark.sql(\"\"\"\n",
        "SELECT \n",
        "view,\n",
        "round(avg(price), 2) as avgPrice\n",
        "FROM home_sales \n",
        "GROUP BY view\n",
        "HAVING avgPrice>=350000\n",
        "ORDER BY view desc\n",
        "\"\"\").show(truncate=False)\n",
        "\n",
        "print(\"--- %s seconds ---\" % (time.time() - start_time))"
      ]
    },
    {
      "cell_type": "code",
      "execution_count": 17,
      "metadata": {
        "id": "hjjYzQGjtbq8",
        "colab": {
          "base_uri": "https://localhost:8080/"
        },
        "outputId": "5366cbd5-68d0-421b-9307-95b68bc5d6fc"
      },
      "outputs": [
        {
          "output_type": "execute_result",
          "data": {
            "text/plain": [
              "DataFrame[]"
            ]
          },
          "metadata": {},
          "execution_count": 17
        }
      ],
      "source": [
        "# 14. Uncache the home_sales temporary table.\n",
        "spark.sql(\"uncache table home_sales\")"
      ]
    },
    {
      "cell_type": "code",
      "execution_count": 18,
      "metadata": {
        "id": "Sy9NBvO7tlmm",
        "colab": {
          "base_uri": "https://localhost:8080/"
        },
        "outputId": "f9e44043-f2fc-42ad-c182-cc3e5035c6d3"
      },
      "outputs": [
        {
          "output_type": "stream",
          "name": "stdout",
          "text": [
            "all clear\n"
          ]
        }
      ],
      "source": [
        "# 15. Check if the home_sales is no longer cached\n",
        "if spark.catalog.isCached(\"home_sales\"):\n",
        "  print(\"a table is till cached\")\n",
        "else:\n",
        "  print(\"all clear\")"
      ]
    },
    {
      "cell_type": "code",
      "execution_count": 18,
      "metadata": {
        "id": "Si-BNruRUGK3"
      },
      "outputs": [],
      "source": []
    }
  ],
  "metadata": {
    "colab": {
      "provenance": []
    },
    "gpuClass": "standard",
    "kernelspec": {
      "display_name": "Python 3 (ipykernel)",
      "language": "python",
      "name": "python3"
    },
    "language_info": {
      "codemirror_mode": {
        "name": "ipython",
        "version": 3
      },
      "file_extension": ".py",
      "mimetype": "text/x-python",
      "name": "python",
      "nbconvert_exporter": "python",
      "pygments_lexer": "ipython3",
      "version": "3.10.4"
    },
    "nteract": {
      "version": "0.28.0"
    }
  },
  "nbformat": 4,
  "nbformat_minor": 0
}